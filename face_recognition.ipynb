{
 "cells": [
  {
   "cell_type": "code",
   "execution_count": 38,
   "outputs": [],
   "source": [
    "import joblib\n",
    "import numpy as np\n",
    "from sklearn import svm\n",
    "from sklearn.model_selection import train_test_split\n",
    "import glob"
   ],
   "metadata": {
    "collapsed": false
   }
  },
  {
   "cell_type": "code",
   "execution_count": 39,
   "outputs": [],
   "source": [
    "# Read positive embeddings\n",
    "positive_embeddings = []\n",
    "for file_path in glob.glob('face_embeddings/*.npy'):\n",
    "    embedding = np.load(file_path)\n",
    "    positive_embeddings.append(embedding)\n",
    "\n",
    "# Read negative embeddings\n",
    "negative_data = []\n",
    "for file_path in glob.glob('neg_embeddings/*.npy'):\n",
    "    embedding = np.load(file_path)\n",
    "    # embedding = np.resize(embedding, (1, 8631)) # Resize to 1x8631\n",
    "    negative_data.append(embedding)\n",
    "\n",
    "positive_embeddings = np.array(positive_embeddings)\n",
    "\n",
    "negative_data = np.array(negative_data)"
   ],
   "metadata": {
    "collapsed": false
   }
  },
  {
   "cell_type": "code",
   "execution_count": 40,
   "outputs": [
    {
     "name": "stdout",
     "output_type": "stream",
     "text": [
      "(264, 8631)\n",
      "(793, 8631)\n"
     ]
    }
   ],
   "source": [
    "print(positive_embeddings.squeeze().shape)\n",
    "print(negative_data.squeeze().shape)\n",
    "positive_embeddings = positive_embeddings.squeeze()\n",
    "negative_data = negative_data.squeeze()\n"
   ],
   "metadata": {
    "collapsed": false
   }
  },
  {
   "cell_type": "markdown",
   "source": [
    "### Create X and y data sets with proper labels for y"
   ],
   "metadata": {
    "collapsed": false
   }
  },
  {
   "cell_type": "code",
   "execution_count": 41,
   "outputs": [],
   "source": [
    "# Reshape negative data to match face embeddings shape\n",
    "# negative_data = negative_data.reshape((positive_embeddings.shape[0], -1))\n",
    "\n",
    "# Create labels for face embeddings (1) and negative data (0)\n",
    "face_labels = np.ones((positive_embeddings.shape[0],))\n",
    "negative_labels = np.zeros((negative_data.shape[0],))\n",
    "\n",
    "# Combine face embeddings and negative data\n",
    "X = np.concatenate((positive_embeddings, negative_data), axis=0)\n",
    "y = np.concatenate((face_labels, negative_labels), axis=0)\n",
    "\n",
    "# Split data into training and testing sets\n",
    "X_train, X_test, y_train, y_test = train_test_split(X, y, test_size=0.2, random_state=42)"
   ],
   "metadata": {
    "collapsed": false
   }
  },
  {
   "cell_type": "code",
   "execution_count": 42,
   "outputs": [
    {
     "name": "stdout",
     "output_type": "stream",
     "text": [
      "Accuracy: 1.0\n"
     ]
    }
   ],
   "source": [
    "# Train SVM model\n",
    "clf = svm.SVC(kernel='linear')\n",
    "clf.fit(X_train, y_train)\n",
    "\n",
    "# Evaluate model on testing set\n",
    "score = clf.score(X_test, y_test)\n",
    "print('Accuracy:', score)\n"
   ],
   "metadata": {
    "collapsed": false
   }
  },
  {
   "cell_type": "code",
   "execution_count": 43,
   "outputs": [
    {
     "data": {
      "text/plain": "['svm_model.pkl']"
     },
     "execution_count": 43,
     "metadata": {},
     "output_type": "execute_result"
    }
   ],
   "source": [
    "filename = 'svm_model.pkl'\n",
    "joblib.dump(clf, filename)"
   ],
   "metadata": {
    "collapsed": false
   }
  }
 ],
 "metadata": {
  "kernelspec": {
   "display_name": "Python 3",
   "language": "python",
   "name": "python3"
  },
  "language_info": {
   "codemirror_mode": {
    "name": "ipython",
    "version": 2
   },
   "file_extension": ".py",
   "mimetype": "text/x-python",
   "name": "python",
   "nbconvert_exporter": "python",
   "pygments_lexer": "ipython2",
   "version": "2.7.6"
  }
 },
 "nbformat": 4,
 "nbformat_minor": 0
}
