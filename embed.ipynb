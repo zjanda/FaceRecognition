{
 "cells": [
  {
   "cell_type": "code",
   "execution_count": 1,
   "outputs": [],
   "source": [
    "import os\n",
    "import numpy as np\n",
    "from tqdm import tqdm\n",
    "from tensorflow.keras.models import load_model\n",
    "from tensorflow.keras.preprocessing import image\n",
    "from tensorflow.keras.applications.vgg16 import preprocess_input"
   ],
   "metadata": {
    "collapsed": false
   }
  },
  {
   "cell_type": "code",
   "execution_count": 2,
   "outputs": [],
   "source": [
    "def embed(image_dir, image_name, embeddings_dir, model):\n",
    "    # Initialize empty list to store embeddings\n",
    "    embeddings = []\n",
    "\n",
    "    # Loop through each image file in the directory and create embedding\n",
    "    for filename in tqdm(os.listdir(image_dir)):\n",
    "        # Load image file\n",
    "        img_path = os.path.join(image_dir, filename)\n",
    "        embedding = np.load(img_path)\n",
    "\n",
    "        # Resize embedding to (224, 224, 3)\n",
    "        img = image.array_to_img(embedding)\n",
    "        img = img.resize((224, 224))\n",
    "        img = image.img_to_array(img)\n",
    "\n",
    "        # Convert image to array and preprocess for VGGFace2 model\n",
    "        img = np.expand_dims(img, axis=0)\n",
    "        img = preprocess_input(img)\n",
    "\n",
    "        # Compute embedding and append to list\n",
    "        embedding = model.predict(img, verbose=0)\n",
    "        embeddings.append(embedding)\n",
    "\n",
    "    if not os.path.exists(embeddings_dir):\n",
    "        os.makedirs(embeddings_dir)\n",
    "\n",
    "    print(len(embeddings), 'embeddings created.')\n",
    "\n",
    "    for i, embedding in enumerate(embeddings):\n",
    "        np.save(os.path.join(embeddings_dir, f'{image_name}{i}.npy'), embedding)\n"
   ],
   "metadata": {
    "collapsed": false
   }
  },
  {
   "cell_type": "code",
   "execution_count": 3,
   "outputs": [
    {
     "name": "stderr",
     "output_type": "stream",
     "text": [
      "100%|██████████| 264/264 [00:23<00:00, 11.06it/s]"
     ]
    },
    {
     "name": "stdout",
     "output_type": "stream",
     "text": [
      "264 embeddings created.\n"
     ]
    },
    {
     "name": "stderr",
     "output_type": "stream",
     "text": [
      "\n"
     ]
    }
   ],
   "source": [
    "image_dir = 'face_images/'\n",
    "image_name = 'face_embedding'\n",
    "embeddings_dir = 'face_embeddings/'\n",
    "# Load VGGFace2 model\n",
    "model = load_model('weights.h5')\n",
    "dir_info = image_dir, image_name, embeddings_dir\n",
    "embed(*dir_info, model)"
   ],
   "metadata": {
    "collapsed": false
   }
  },
  {
   "cell_type": "code",
   "execution_count": 5,
   "outputs": [
    {
     "name": "stderr",
     "output_type": "stream",
     "text": [
      "100%|██████████| 793/793 [01:10<00:00, 11.29it/s]\n"
     ]
    },
    {
     "name": "stdout",
     "output_type": "stream",
     "text": [
      "793 embeddings created.\n"
     ]
    }
   ],
   "source": [
    "image_dir = 'negative_images/'\n",
    "image_name = 'neg_embedding'\n",
    "embeddings_dir = 'neg_embeddings/'\n",
    "dir_info = image_dir, image_name, embeddings_dir\n",
    "embed(*dir_info, model)"
   ],
   "metadata": {
    "collapsed": false
   }
  }
 ],
 "metadata": {
  "kernelspec": {
   "display_name": "Python 3",
   "language": "python",
   "name": "python3"
  },
  "language_info": {
   "codemirror_mode": {
    "name": "ipython",
    "version": 2
   },
   "file_extension": ".py",
   "mimetype": "text/x-python",
   "name": "python",
   "nbconvert_exporter": "python",
   "pygments_lexer": "ipython2",
   "version": "2.7.6"
  }
 },
 "nbformat": 4,
 "nbformat_minor": 0
}
